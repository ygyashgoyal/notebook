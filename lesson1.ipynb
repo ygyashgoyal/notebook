{
  "cells": [
    {
      "cell_type": "markdown",
      "metadata": {},
      "source": [
        "# Welcome to JupyterLite 🎉\n",
        "\n",
        "This is a demo notebook running **entirely in your browser**.\n",
        "\n",
        "Feel free to edit and run the code below 👇"
      ]
    },
    {
      "cell_type": "code",
      "execution_count": 1,
      "metadata": {},
      "outputs": [
        {
          "name": "stdout",
          "output_type": "stream",
          "text": [
            "Hello, World! 👋\n"
          ]
        }
      ],
      "source": [
        "name = \"World\"\n",
        "print(f\"Hello, {name}! 👋\")"
      ]
    },
    {
      "cell_type": "code",
      "execution_count": 2,
      "metadata": {},
      "outputs": [
        {
          "name": "stdout",
          "output_type": "stream",
          "text": [
            "Line 1\n",
            "Line 2\n",
            "Line 3\n",
            "Line 4\n",
            "Line 5\n"
          ]
        }
      ],
      "source": [
        "# Here's a simple loop:\n",
        "for i in range(5):\n",
        "    print(f\"Line {i+1}\")"
      ]
    }
  ],
  "metadata": {
    "kernelspec": {
      "display_name": "Python 3",
      "language": "python",
      "name": "python3"
    },
    "language_info": {
      "codemirror_mode": {
        "name": "ipython",
        "version": 3
      },
      "file_extension": ".py",
      "mimetype": "text/x-python",
      "name": "python",
      "nbconvert_exporter": "python",
      "pygments_lexer": "ipython3",
      "version": "3.12.4"
    }
  },
  "nbformat": 4,
  "nbformat_minor": 5
}
